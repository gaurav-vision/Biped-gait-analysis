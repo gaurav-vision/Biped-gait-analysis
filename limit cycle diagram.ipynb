{
 "cells": [
  {
   "cell_type": "markdown",
   "metadata": {},
   "source": [
    "# limit cycle diagram \n",
    "\n",
    "Limit cycle diagram use for representing the characterstics of the joint movement.\n",
    "for drawing limit cycle, we use theta verses theta_dot graph, angle verse angular velocity graph. We have need csv file of hip joint angle and  velocity of the joint in the form of csv file and plot both of them. "
   ]
  },
  {
   "cell_type": "code",
   "execution_count": 21,
   "metadata": {},
   "outputs": [],
   "source": [
    "import pandas as pd\n",
    "import matplotlib.pyplot as plt\n",
    "%matplotlib inline\n",
    "import seaborn\n",
    "import numpy as np"
   ]
  },
  {
   "cell_type": "code",
   "execution_count": 22,
   "metadata": {},
   "outputs": [],
   "source": [
    "hipData = pd.read_csv('right hip.csv')"
   ]
  },
  {
   "cell_type": "code",
   "execution_count": 23,
   "metadata": {},
   "outputs": [
    {
     "data": {
      "text/html": [
       "<div>\n",
       "<style scoped>\n",
       "    .dataframe tbody tr th:only-of-type {\n",
       "        vertical-align: middle;\n",
       "    }\n",
       "\n",
       "    .dataframe tbody tr th {\n",
       "        vertical-align: top;\n",
       "    }\n",
       "\n",
       "    .dataframe thead th {\n",
       "        text-align: right;\n",
       "    }\n",
       "</style>\n",
       "<table border=\"1\" class=\"dataframe\">\n",
       "  <thead>\n",
       "    <tr style=\"text-align: right;\">\n",
       "      <th></th>\n",
       "      <th>time</th>\n",
       "      <th>ax</th>\n",
       "      <th>ay</th>\n",
       "      <th>az</th>\n",
       "      <th>wx</th>\n",
       "      <th>wy</th>\n",
       "      <th>wz</th>\n",
       "      <th>Azimuth</th>\n",
       "      <th>Pitch</th>\n",
       "      <th>Roll</th>\n",
       "      <th>Unnamed: 10</th>\n",
       "    </tr>\n",
       "  </thead>\n",
       "  <tbody>\n",
       "    <tr>\n",
       "      <th>0</th>\n",
       "      <td>1.021</td>\n",
       "      <td>-0.3052</td>\n",
       "      <td>-0.3872</td>\n",
       "      <td>-0.1180</td>\n",
       "      <td>0.0166</td>\n",
       "      <td>0.1205</td>\n",
       "      <td>0.1116</td>\n",
       "      <td>152.6517</td>\n",
       "      <td>-5.8666</td>\n",
       "      <td>1.5253</td>\n",
       "      <td>NaN</td>\n",
       "    </tr>\n",
       "    <tr>\n",
       "      <th>1</th>\n",
       "      <td>2.024</td>\n",
       "      <td>-0.5610</td>\n",
       "      <td>0.0460</td>\n",
       "      <td>-0.0844</td>\n",
       "      <td>0.1093</td>\n",
       "      <td>0.0097</td>\n",
       "      <td>-0.1515</td>\n",
       "      <td>153.7477</td>\n",
       "      <td>-13.2442</td>\n",
       "      <td>4.9965</td>\n",
       "      <td>NaN</td>\n",
       "    </tr>\n",
       "    <tr>\n",
       "      <th>2</th>\n",
       "      <td>3.027</td>\n",
       "      <td>2.2090</td>\n",
       "      <td>-2.6260</td>\n",
       "      <td>3.8671</td>\n",
       "      <td>-1.8934</td>\n",
       "      <td>-2.8527</td>\n",
       "      <td>-0.6639</td>\n",
       "      <td>264.1666</td>\n",
       "      <td>-62.3954</td>\n",
       "      <td>55.5685</td>\n",
       "      <td>NaN</td>\n",
       "    </tr>\n",
       "    <tr>\n",
       "      <th>3</th>\n",
       "      <td>4.016</td>\n",
       "      <td>0.6705</td>\n",
       "      <td>-1.4958</td>\n",
       "      <td>0.4114</td>\n",
       "      <td>0.0240</td>\n",
       "      <td>2.8113</td>\n",
       "      <td>1.6743</td>\n",
       "      <td>227.9764</td>\n",
       "      <td>-19.4540</td>\n",
       "      <td>21.8259</td>\n",
       "      <td>NaN</td>\n",
       "    </tr>\n",
       "    <tr>\n",
       "      <th>4</th>\n",
       "      <td>5.018</td>\n",
       "      <td>0.5323</td>\n",
       "      <td>-0.6233</td>\n",
       "      <td>-0.8183</td>\n",
       "      <td>-0.5278</td>\n",
       "      <td>-2.6940</td>\n",
       "      <td>-0.7726</td>\n",
       "      <td>195.9163</td>\n",
       "      <td>-22.0958</td>\n",
       "      <td>13.5408</td>\n",
       "      <td>NaN</td>\n",
       "    </tr>\n",
       "  </tbody>\n",
       "</table>\n",
       "</div>"
      ],
      "text/plain": [
       "    time      ax      ay      az      wx      wy      wz   Azimuth    Pitch  \\\n",
       "0  1.021 -0.3052 -0.3872 -0.1180  0.0166  0.1205  0.1116  152.6517  -5.8666   \n",
       "1  2.024 -0.5610  0.0460 -0.0844  0.1093  0.0097 -0.1515  153.7477 -13.2442   \n",
       "2  3.027  2.2090 -2.6260  3.8671 -1.8934 -2.8527 -0.6639  264.1666 -62.3954   \n",
       "3  4.016  0.6705 -1.4958  0.4114  0.0240  2.8113  1.6743  227.9764 -19.4540   \n",
       "4  5.018  0.5323 -0.6233 -0.8183 -0.5278 -2.6940 -0.7726  195.9163 -22.0958   \n",
       "\n",
       "      Roll  Unnamed: 10  \n",
       "0   1.5253          NaN  \n",
       "1   4.9965          NaN  \n",
       "2  55.5685          NaN  \n",
       "3  21.8259          NaN  \n",
       "4  13.5408          NaN  "
      ]
     },
     "execution_count": 23,
     "metadata": {},
     "output_type": "execute_result"
    }
   ],
   "source": [
    "hipData.head()"
   ]
  },
  {
   "cell_type": "code",
   "execution_count": 24,
   "metadata": {},
   "outputs": [
    {
     "data": {
      "text/plain": [
       "(33, 11)"
      ]
     },
     "execution_count": 24,
     "metadata": {},
     "output_type": "execute_result"
    }
   ],
   "source": [
    "hipData.shape"
   ]
  },
  {
   "cell_type": "code",
   "execution_count": null,
   "metadata": {},
   "outputs": [],
   "source": []
  },
  {
   "cell_type": "code",
   "execution_count": 26,
   "metadata": {},
   "outputs": [],
   "source": [
    "speed = hipData.iloc[:,5]"
   ]
  },
  {
   "cell_type": "code",
   "execution_count": 34,
   "metadata": {},
   "outputs": [],
   "source": [
    "speed1 = hipData.iloc[:,6]"
   ]
  },
  {
   "cell_type": "code",
   "execution_count": 35,
   "metadata": {},
   "outputs": [],
   "source": [
    "theta = hipData.iloc[:,8]"
   ]
  },
  {
   "cell_type": "code",
   "execution_count": 36,
   "metadata": {},
   "outputs": [],
   "source": [
    "theta1 = hipData.iloc[:,9]"
   ]
  },
  {
   "cell_type": "code",
   "execution_count": 38,
   "metadata": {},
   "outputs": [
    {
     "data": {
      "image/png": "[encoded data removed]",
      "text/plain": [
       "<Figure size 432x288 with 1 Axes>"
      ]
     },
     "metadata": {
      "needs_background": "light"
     },
     "output_type": "display_data"
    }
   ],
   "source": [
    "# Plot the limit cycle diagram for theta verses theta dot\n",
    "plt.plot(theta1, speed1)\n",
    "plt.title('limit cycle diagram')\n",
    "plt.xlabel('theta')\n",
    "plt.ylabel('theta')\n",
    "plt.grid(True)\n",
    "plt.show()"
   ]
  },
  {
   "cell_type": "code",
   "execution_count": null,
   "metadata": {},
   "outputs": [],
   "source": []
  },
  {
   "cell_type": "code",
   "execution_count": null,
   "metadata": {},
   "outputs": [],
   "source": []
  }
 ],
 "metadata": {
  "kernelspec": {
   "display_name": "Python 3",
   "language": "python",
   "name": "python3"
  },
  "language_info": {
   "codemirror_mode": {
    "name": "ipython",
    "version": 3
   },
   "file_extension": ".py",
   "mimetype": "text/x-python",
   "name": "python",
   "nbconvert_exporter": "python",
   "pygments_lexer": "ipython3",
   "version": "3.7.6"
  }
 },
 "nbformat": 4,
 "nbformat_minor": 4
}
